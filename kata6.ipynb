{
 "cells": [
  {
   "cell_type": "code",
   "execution_count": 18,
   "metadata": {},
   "outputs": [
    {
     "name": "stdout",
     "output_type": "stream",
     "text": [
      "8 planets in this list\n"
     ]
    }
   ],
   "source": [
    "planets = ['Mercury', 'Venus', 'Earth', 'Mars', 'Jupiter', 'Saturn', 'Uranus', 'Neptune']\n",
    "\n",
    "planet_nummer=len(planets)\n",
    "\n",
    "print(planet_nummer, \"planets in this list\")\n",
    "\n",
    "#print(\"there are\", planets_nummer, \"int this list\")\n"
   ]
  },
  {
   "cell_type": "code",
   "execution_count": 19,
   "metadata": {},
   "outputs": [
    {
     "name": "stdout",
     "output_type": "stream",
     "text": [
      "9 planets in this list Pluto is the last one of it\n"
     ]
    }
   ],
   "source": [
    "planets.append(\"Pluto\")\n",
    "planet_nummer=len(planets)\n",
    "print(planet_nummer, \"planets in this list\", planets[8], \"is the last one of it\")\n",
    "\n"
   ]
  },
  {
   "cell_type": "code",
   "execution_count": 20,
   "metadata": {},
   "outputs": [
    {
     "name": "stdout",
     "output_type": "stream",
     "text": [
      "Pluto\n"
     ]
    }
   ],
   "source": [
    "# Lista de planetas\n",
    "planets = ['Mercury', 'Venus', 'Earth', 'Mars', 'Jupiter', 'Saturn', 'Neptune']\n",
    "\n",
    "new_planet=input(\"provide a new planet to the list below: \")\n",
    "new_planet=new_planet.title()\n",
    "print(new_planet)\n",
    "planets.append(new_planet)\n",
    "\n"
   ]
  },
  {
   "cell_type": "code",
   "execution_count": 21,
   "metadata": {},
   "outputs": [
    {
     "name": "stdout",
     "output_type": "stream",
     "text": [
      "the last planet added to list was: 8 :  Pluto\n"
     ]
    }
   ],
   "source": [
    "search_index=len(planets)\n",
    "print(\"the last planet added to list was:\", search_index,\": \", planets[search_index-1])\n"
   ]
  },
  {
   "cell_type": "code",
   "execution_count": 27,
   "metadata": {},
   "outputs": [
    {
     "name": "stdout",
     "output_type": "stream",
     "text": [
      "list of planets closer to sun from user input is:  ['Mercury', 'Venus', 'Earth', 'Mars', 'Jupiter', 'Saturn', 'Neptune']\n",
      "fartest planet to sun from user input is:  []\n"
     ]
    }
   ],
   "source": [
    "\n",
    "\n",
    "print(\"list of planets closer to sun from user input is: \", planets[0:search_index-1])\n",
    "print(\"fartest planet to sun from user input is: \", planets[search_index+1:])\n",
    "\n",
    "\n",
    "\n",
    "\n",
    "\n"
   ]
  }
 ],
 "metadata": {
  "interpreter": {
   "hash": "aee8b7b246df8f9039afb4144a1f6fd8d2ca17a180786b69acc140d282b71a49"
  },
  "kernelspec": {
   "display_name": "Python 3.10.2 64-bit",
   "language": "python",
   "name": "python3"
  },
  "language_info": {
   "codemirror_mode": {
    "name": "ipython",
    "version": 3
   },
   "file_extension": ".py",
   "mimetype": "text/x-python",
   "name": "python",
   "nbconvert_exporter": "python",
   "pygments_lexer": "ipython3",
   "version": "3.10.2"
  },
  "orig_nbformat": 4
 },
 "nbformat": 4,
 "nbformat_minor": 2
}
