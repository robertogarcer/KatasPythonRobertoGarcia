{
 "cells": [
  {
   "cell_type": "markdown",
   "metadata": {},
   "source": [
    "#kata 5"
   ]
  },
  {
   "cell_type": "code",
   "execution_count": 22,
   "metadata": {},
   "outputs": [],
   "source": [
    "tierra=149597870\n",
    "jupiter=778547200\n",
    "\n"
   ]
  },
  {
   "cell_type": "code",
   "execution_count": 23,
   "metadata": {},
   "outputs": [
    {
     "name": "stdout",
     "output_type": "stream",
     "text": [
      "628949330\n",
      "390577533.93\n"
     ]
    }
   ],
   "source": [
    "dist=jupiter-tierra\n",
    "\n",
    "print(dist)\n",
    "\n",
    "dist_nmillas=dist*(0.621)\n",
    "\n",
    "print(dist_nmillas)\n"
   ]
  },
  {
   "cell_type": "code",
   "execution_count": 24,
   "metadata": {},
   "outputs": [
    {
     "name": "stdout",
     "output_type": "stream",
     "text": [
      "1111 Km\n",
      "689.931 mi\n"
     ]
    }
   ],
   "source": [
    "#almacenar las variables de entrada del usuario\n",
    "\n",
    "planeta=int(input(\"input first planet's distance to Sun: \"))\n",
    "planeta2=int(input(\"input first planet's distance to Sun: \"))\n",
    "\n",
    "diferencia=planeta-planeta2\n",
    "print(diferencia, \"Km\")\n",
    "\n",
    "diferencia_mi=diferencia*0.621\n",
    "print(abs(diferencia_mi), \"mi\")"
   ]
  }
 ],
 "metadata": {
  "interpreter": {
   "hash": "aee8b7b246df8f9039afb4144a1f6fd8d2ca17a180786b69acc140d282b71a49"
  },
  "kernelspec": {
   "display_name": "Python 3.10.2 64-bit",
   "language": "python",
   "name": "python3"
  },
  "language_info": {
   "codemirror_mode": {
    "name": "ipython",
    "version": 3
   },
   "file_extension": ".py",
   "mimetype": "text/x-python",
   "name": "python",
   "nbconvert_exporter": "python",
   "pygments_lexer": "ipython3",
   "version": "3.10.2"
  },
  "orig_nbformat": 4
 },
 "nbformat": 4,
 "nbformat_minor": 2
}
