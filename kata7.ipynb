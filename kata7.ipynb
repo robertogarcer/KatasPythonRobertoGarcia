{
 "cells": [
  {
   "cell_type": "code",
   "execution_count": 6,
   "metadata": {},
   "outputs": [
    {
     "name": "stdout",
     "output_type": "stream",
     "text": [
      "['Hola']\n",
      "['Hola', 'Adios']\n",
      "['Hola', 'Adios', 'Murio']\n",
      "['Hola', 'Adios', 'Murio', 'Taootin']\n",
      "see you next time\n"
     ]
    }
   ],
   "source": [
    "new_planet=\"\"\n",
    "planets=[]\n",
    "\n",
    "while (new_planet!=\"Done\"):\n",
    "    \n",
    "    if new_planet:\n",
    "        planets.append(new_planet.title())\n",
    "        print(planets)\n",
    "    new_planet=input(\"provide next planet to visit: \")\n",
    "\n",
    "print(\"see you next time\")\n"
   ]
  },
  {
   "cell_type": "code",
   "execution_count": 7,
   "metadata": {},
   "outputs": [
    {
     "name": "stdout",
     "output_type": "stream",
     "text": [
      "Hola\n",
      "Adios\n",
      "Murio\n",
      "Taootin\n"
     ]
    }
   ],
   "source": [
    "for impresion in planets:\n",
    "    print(impresion)"
   ]
  }
 ],
 "metadata": {
  "interpreter": {
   "hash": "aee8b7b246df8f9039afb4144a1f6fd8d2ca17a180786b69acc140d282b71a49"
  },
  "kernelspec": {
   "display_name": "Python 3.10.2 64-bit",
   "language": "python",
   "name": "python3"
  },
  "language_info": {
   "codemirror_mode": {
    "name": "ipython",
    "version": 3
   },
   "file_extension": ".py",
   "mimetype": "text/x-python",
   "name": "python",
   "nbconvert_exporter": "python",
   "pygments_lexer": "ipython3",
   "version": "3.10.2"
  },
  "orig_nbformat": 4
 },
 "nbformat": 4,
 "nbformat_minor": 2
}
