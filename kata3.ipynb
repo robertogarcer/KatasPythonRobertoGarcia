{
 "cells": [
  {
   "cell_type": "markdown",
   "metadata": {},
   "source": [
    "#kata3"
   ]
  },
  {
   "cell_type": "code",
   "execution_count": 2,
   "metadata": {},
   "outputs": [
    {
     "name": "stdout",
     "output_type": "stream",
     "text": [
      "warning, inconmming asteroid to ship, evasive action inmediatly\n"
     ]
    }
   ],
   "source": [
    "velocidad=49\n",
    "if velocidad >=25:\n",
    "    print(\"warning, inconmming asteroid to ship, evasive action inmediatly\")\n",
    "\n",
    "else:\n",
    "    print(\"no danger detected, move along\")"
   ]
  },
  {
   "cell_type": "code",
   "execution_count": null,
   "metadata": {},
   "outputs": [],
   "source": [
    "asteroid2_vel=19\n",
    "if asteroid2_vel >20:\n",
    "    print(\"incomming asteroiod to aerth, look up\")\n",
    "\n",
    "else:\n",
    "    print(\"no asteroid detected in orbit\")"
   ]
  },
  {
   "cell_type": "code",
   "execution_count": 4,
   "metadata": {},
   "outputs": [
    {
     "name": "stdout",
     "output_type": "stream",
     "text": [
      "asteroid size over safety limits, emergency\n",
      "asteroid detected, speed normal and safe\n"
     ]
    }
   ],
   "source": [
    "asteroid_speed=int(input(\"input asteroid speed: \"))\n",
    "asteroid_size=int(input(\"input asteroid size: \"))\n",
    "\n",
    "if asteroid_size>=25 and asteroid_size<1000:\n",
    "    print(\"asteroid size over safety limits, emergency\")\n",
    "\n",
    "else: \n",
    "    print(\"asteroid size in safety treshold, stand by for updates\")\n",
    "\n",
    "if (asteroid_speed>=25):\n",
    "    print(\"asteroid detected, speed alert!\")\n",
    "\n",
    "else:\n",
    "    print(\"asteroid detected, speed normal and safe\")\n",
    "\n",
    "\n"
   ]
  }
 ],
 "metadata": {
  "interpreter": {
   "hash": "aee8b7b246df8f9039afb4144a1f6fd8d2ca17a180786b69acc140d282b71a49"
  },
  "kernelspec": {
   "display_name": "Python 3.10.2 64-bit",
   "language": "python",
   "name": "python3"
  },
  "language_info": {
   "codemirror_mode": {
    "name": "ipython",
    "version": 3
   },
   "file_extension": ".py",
   "mimetype": "text/x-python",
   "name": "python",
   "nbconvert_exporter": "python",
   "pygments_lexer": "ipython3",
   "version": "3.10.2"
  },
  "orig_nbformat": 4
 },
 "nbformat": 4,
 "nbformat_minor": 2
}
