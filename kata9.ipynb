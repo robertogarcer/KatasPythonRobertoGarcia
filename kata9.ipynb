{
 "cells": [
  {
   "cell_type": "code",
   "execution_count": 27,
   "metadata": {},
   "outputs": [
    {
     "data": {
      "text/plain": [
       "'\\n    \\n    main tank: 1 %\\n    secondary  tank: 1 %\\n    backup tank: 1%%!\\n\\n    average fuel percentage 1.0'"
      ]
     },
     "execution_count": 27,
     "metadata": {},
     "output_type": "execute_result"
    }
   ],
   "source": [
    "def tanques (tanque, tanque2, tanque3):\n",
    "    promedio=(tanque+tanque2+tanque3)/3\n",
    "    return f\"\"\"\n",
    "    \n",
    "    main tank: {tanque} %\n",
    "    secondary  tank: {tanque2} %\n",
    "    backup tank: {tanque3 }%%!\n",
    "\n",
    "    average fuel percentage {promedio}\"\"\"\n",
    "    \n",
    "    \n",
    "    \n",
    "# Llamamos a la función que genera el reporte print(funcion(tanque1, tanque2, tanque3))\n",
    "tanques(1,1,1)\n"
   ]
  },
  {
   "cell_type": "code",
   "execution_count": 28,
   "metadata": {},
   "outputs": [
    {
     "data": {
      "text/plain": [
       "20.0"
      ]
     },
     "execution_count": 28,
     "metadata": {},
     "output_type": "execute_result"
    }
   ],
   "source": [
    "def average (tanque1, tanque2, tanque3):\n",
    "    averg=(tanque1+tanque2+tanque3)/3\n",
    "    return averg\n",
    "\n",
    "average(10,20,30)"
   ]
  },
  {
   "cell_type": "code",
   "execution_count": 29,
   "metadata": {},
   "outputs": [
    {
     "name": "stdout",
     "output_type": "stream",
     "text": [
      "\n",
      "    \n",
      "    main tank: 10 %\n",
      "    secondary  tank: 10 %\n",
      "    backup tank: 10%\n",
      "\n",
      "    average fuel percentage 10.0\n"
     ]
    }
   ],
   "source": [
    "def tanques (tanque, tanque2, tanque3):\n",
    "    \n",
    "    return f\"\"\"\n",
    "    \n",
    "    main tank: {tanque} %\n",
    "    secondary  tank: {tanque2} %\n",
    "    backup tank: {tanque3 }%\n",
    "\n",
    "    average fuel percentage {average(tanque,tanque2,tanque3)}\"\"\"\n",
    "\n",
    "print(tanques(10,10,10))"
   ]
  },
  {
   "cell_type": "code",
   "execution_count": 30,
   "metadata": {},
   "outputs": [
    {
     "name": "stdout",
     "output_type": "stream",
     "text": [
      "\n",
      "    Adventure to: Veracruz\n",
      "    Travel Time: 15 minutes\n",
      "    Fuel: 32\n",
      "    \n"
     ]
    }
   ],
   "source": [
    "def prelaunch(prelaunch, fly_time, destiny, ext_tank, int_tank):\n",
    "\n",
    "    return f\"\"\"\n",
    "    Adventure to: {destiny}\n",
    "    Travel Time: {prelaunch+fly_time} minutes\n",
    "    Fuel: {ext_tank+int_tank}\n",
    "    \"\"\"\n",
    "    \n",
    "print(prelaunch(10,5,\"Veracruz\",30,2))"
   ]
  },
  {
   "cell_type": "code",
   "execution_count": 31,
   "metadata": {},
   "outputs": [
    {
     "name": "stdout",
     "output_type": "stream",
     "text": [
      "\n",
      "    Travelling to: Xalapa\n",
      "    time Travel: 30 minutes\n",
      "    Fuel Reservoir: 20340\n",
      "    \n"
     ]
    }
   ],
   "source": [
    "def prelaunch(destiny, *time, **fuel):\n",
    "    return f\"\"\"\n",
    "    Travelling to: {destiny}\n",
    "    time Travel: {sum(time)} minutes\n",
    "    Fuel Reservoir: {sum(fuel.values())}\n",
    "    \"\"\"\n",
    "\n",
    "print(prelaunch(\"Xalapa\",10,10,10,first=20000,second=340))"
   ]
  },
  {
   "cell_type": "code",
   "execution_count": 34,
   "metadata": {},
   "outputs": [
    {
     "name": "stdout",
     "output_type": "stream",
     "text": [
      "\n",
      "    Mission to Moon\n",
      "    Total travel time: 74 minutes\n",
      "    Total fuel left: 500000\n",
      "    main tank --> 300000 gallons left\n",
      "external tank --> 200000 gallons left\n",
      "\n"
     ]
    }
   ],
   "source": [
    "def mission_report(destiny, *time, **fuel):\n",
    "    main_report = f\"\"\"\n",
    "    Mission to {destiny}\n",
    "    Total travel time: {sum(time)} minutes\n",
    "    Total fuel left: {sum(fuel.values())}\n",
    "    \"\"\"\n",
    "    for tank_name, gallons in fuel.items():\n",
    "        main_report += f\"{tank_name} tank --> {gallons} gallons left\\n\"\n",
    "    return main_report\n",
    "\n",
    "print(mission_report(\"Moon\", 8, 11, 55, main=300000, external=200000))"
   ]
  }
 ],
 "metadata": {
  "interpreter": {
   "hash": "aee8b7b246df8f9039afb4144a1f6fd8d2ca17a180786b69acc140d282b71a49"
  },
  "kernelspec": {
   "display_name": "Python 3.10.2 64-bit",
   "language": "python",
   "name": "python3"
  },
  "language_info": {
   "codemirror_mode": {
    "name": "ipython",
    "version": 3
   },
   "file_extension": ".py",
   "mimetype": "text/x-python",
   "name": "python",
   "nbconvert_exporter": "python",
   "pygments_lexer": "ipython3",
   "version": "3.10.2"
  },
  "orig_nbformat": 4
 },
 "nbformat": 4,
 "nbformat_minor": 2
}
